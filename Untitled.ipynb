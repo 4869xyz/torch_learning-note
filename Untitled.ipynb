{
 "cells": [
  {
   "cell_type": "markdown",
   "id": "82e9891a-a08a-4d11-b819-354924e485b7",
   "metadata": {},
   "source": [
    "# 第十四章模型保存和加载"
   ]
  },
  {
   "cell_type": "markdown",
   "id": "fcf79233-5164-4d01-9e87-3cde5a3c9ca1",
   "metadata": {},
   "source": [
    "## 1、保存整个模型"
   ]
  },
  {
   "cell_type": "code",
   "execution_count": null,
   "id": "ea7327ae-0d2c-48cc-bc0d-87ae6246f998",
   "metadata": {},
   "outputs": [],
   "source": [
    "model=models.resnet18(pretrained=True)\n",
    "\n",
    "#保存整个模型\n",
    "torch.save(model,'model.pth')\n",
    "\n",
    "#加载整个模型\n",
    "loaded_model=torch.load('model.pth')"
   ]
  },
  {
   "cell_type": "markdown",
   "id": "660b6157-8644-49ec-9121-848b7ab26e82",
   "metadata": {},
   "source": [
    "## 2、仅保存模型参数"
   ]
  },
  {
   "cell_type": "code",
   "execution_count": null,
   "id": "570c1545-8026-4474-bbdd-c28ec812a2a2",
   "metadata": {},
   "outputs": [],
   "source": [
    "torch.save(model.state_dict(),'model_weights.pth')\n",
    "#加载模型参数，之前必须先创建相同架构的模型\n",
    "model.load_state_dict(torch.load('model_weights.pth'))\n",
    "model.eval()\n"
   ]
  },
  {
   "attachments": {
    "d6ec9e68-672e-4985-a808-b771d99eed0f.png": {
     "image/png": "[encoded data removed]"
    }
   },
   "cell_type": "markdown",
   "id": "86246041-26d4-4f8d-bc0f-b7f9a13f5278",
   "metadata": {},
   "source": [
    "![image.png](attachment:d6ec9e68-672e-4985-a808-b771d99eed0f.png)"
   ]
  },
  {
   "cell_type": "code",
   "execution_count": null,
   "id": "64abe7c0-e62a-47b9-ac17-4650af899f52",
   "metadata": {},
   "outputs": [],
   "source": []
  }
 ],
 "metadata": {
  "kernelspec": {
   "display_name": "pytorch2",
   "language": "python",
   "name": "pytorch2"
  },
  "language_info": {
   "codemirror_mode": {
    "name": "ipython",
    "version": 3
   },
   "file_extension": ".py",
   "mimetype": "text/x-python",
   "name": "python",
   "nbconvert_exporter": "python",
   "pygments_lexer": "ipython3",
   "version": "3.9.19"
  }
 },
 "nbformat": 4,
 "nbformat_minor": 5
}
